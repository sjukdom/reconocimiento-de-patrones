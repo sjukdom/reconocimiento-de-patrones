{
 "cells": [
  {
   "cell_type": "code",
   "execution_count": 2,
   "metadata": {},
   "outputs": [],
   "source": [
    "import numpy as np\n",
    "import nnetwork\n",
    "import mnist_loader"
   ]
  },
  {
   "cell_type": "code",
   "execution_count": 3,
   "metadata": {},
   "outputs": [],
   "source": [
    "training_data, validation_data, test_data = mnist_loader.load_data_wrapper()"
   ]
  },
  {
   "cell_type": "code",
   "execution_count": 5,
   "metadata": {},
   "outputs": [],
   "source": [
    "net = nnetwork.Network([784, 30, 10])"
   ]
  },
  {
   "cell_type": "code",
   "execution_count": 6,
   "metadata": {},
   "outputs": [
    {
     "name": "stdout",
     "output_type": "stream",
     "text": [
      "Epoch 0: 8952 / 10000\n",
      "Epoch 1: 9201 / 10000\n",
      "Epoch 2: 9284 / 10000\n",
      "Epoch 3: 9375 / 10000\n",
      "Epoch 4: 9377 / 10000\n",
      "Epoch 5: 9410 / 10000\n",
      "Epoch 6: 9433 / 10000\n",
      "Epoch 7: 9432 / 10000\n",
      "Epoch 8: 9452 / 10000\n",
      "Epoch 9: 9451 / 10000\n",
      "Epoch 10: 9452 / 10000\n",
      "Epoch 11: 9489 / 10000\n",
      "Epoch 12: 9456 / 10000\n",
      "Epoch 13: 9488 / 10000\n",
      "Epoch 14: 9474 / 10000\n",
      "Epoch 15: 9455 / 10000\n",
      "Epoch 16: 9449 / 10000\n",
      "Epoch 17: 9448 / 10000\n",
      "Epoch 18: 9464 / 10000\n",
      "Epoch 19: 9462 / 10000\n",
      "Epoch 20: 9487 / 10000\n",
      "Epoch 21: 9482 / 10000\n",
      "Epoch 22: 9486 / 10000\n",
      "Epoch 23: 9464 / 10000\n",
      "Epoch 24: 9476 / 10000\n",
      "Epoch 25: 9471 / 10000\n",
      "Epoch 26: 9469 / 10000\n",
      "Epoch 27: 9457 / 10000\n",
      "Epoch 28: 9463 / 10000\n",
      "Epoch 29: 9499 / 10000\n"
     ]
    }
   ],
   "source": [
    "net.SGD(training_data, 30, 10, 3.0, test_data=test_data)"
   ]
  },
  {
   "cell_type": "code",
   "execution_count": 20,
   "metadata": {},
   "outputs": [
    {
     "name": "stdout",
     "output_type": "stream",
     "text": [
      "Entrenamiento usando :\n",
      "learning rate = 3.0\n",
      "epochs = 30\n",
      "batch size = 10\n",
      "Presicion = 94.99%\n"
     ]
    }
   ],
   "source": [
    "print'Entrenamiento usando :'\n",
    "print 'learning rate = %s' % 3.0\n",
    "print 'epochs = %s' % 30\n",
    "print 'batch size = %s' % 10\n",
    "print'Presicion = ' + str(float(net.evaluate(test_data))/10000*100) + '%'"
   ]
  },
  {
   "cell_type": "code",
   "execution_count": null,
   "metadata": {},
   "outputs": [],
   "source": []
  }
 ],
 "metadata": {
  "kernelspec": {
   "display_name": "py27",
   "language": "python",
   "name": "py27"
  },
  "language_info": {
   "codemirror_mode": {
    "name": "ipython",
    "version": 2
   },
   "file_extension": ".py",
   "mimetype": "text/x-python",
   "name": "python",
   "nbconvert_exporter": "python",
   "pygments_lexer": "ipython2",
   "version": "2.7.15"
  }
 },
 "nbformat": 4,
 "nbformat_minor": 2
}
